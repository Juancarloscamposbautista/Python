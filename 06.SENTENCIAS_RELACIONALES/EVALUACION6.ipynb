{
  "nbformat": 4,
  "nbformat_minor": 0,
  "metadata": {
    "colab": {
      "name": "Copia de Untitled7.ipynb",
      "provenance": [],
      "collapsed_sections": []
    },
    "kernelspec": {
      "name": "python3",
      "display_name": "Python 3"
    },
    "language_info": {
      "name": "python"
    }
  },
  "cells": [
    {
      "cell_type": "markdown",
      "source": [
        "# 6 Práctica\n",
        "Sentencias condicionales. (6 puntos)\n",
        "\n",
        "## Ejercicio 1 (1.5 puntos)\n",
        "Realizar un ejemplo de menú, donde podemos escoger las distintas opciones hasta que seleccionamos la opción de “Salir”.\n",
        "\n",
        "Menú de recomendaciones\n",
        "\n",
        "* Literatura\n",
        "* Cine\n",
        "* Música\n",
        "* Videojuegos\n",
        "* Salir\n",
        "\n",
        "Al ingresar una opcion\n",
        "\n",
        "opcion 1:\n",
        "\n",
        "Lecturas recomendables:\n",
        "\n",
        "* Esperándolo a Tito y otros cuentos de fútbol (Eduardo Sacheri)\n",
        "* El juego de Ender (Orson Scott Card)\n",
        "* El sueño de los héroes (Adolfo Bioy Casares)\n",
        "\n",
        "opcion 2:\n",
        "\n",
        "Películas recomendables:\n",
        "\n",
        "* Matrix (1999)\n",
        "* El último samuray (2003)\n",
        "* Cars (2006)\n",
        "\n",
        "opcion 3:\n",
        "\n",
        "Discos recomendables:\n",
        "\n",
        "* Despedazado por mil partes (La Renga, 1996)\n",
        "* Búfalo (La Mississippi, 2008)\n",
        "* Gaia (Mago de Oz, 2003)\n",
        "\n",
        "opcion 4:\n",
        "\n",
        "* Videojuegos clásicos recomendables\n",
        "* Día del tentáculo (LucasArts, 1993)\n",
        "* Terminal Velocity (Terminal Reality/3D Realms, 1995)\n",
        "* Death Rally (Remedy/Apogee, 1996)\n",
        "\n",
        "opcion 5:\n",
        "\n",
        "Gracias, vuelva prontos\n",
        "\n",
        "Opción no válida, en caso de ingresar un número fuera de las opciones\n",
        "\n"
      ],
      "metadata": {
        "id": "uvxPhEvyOpzM"
      }
    },
    {
      "cell_type": "code",
      "execution_count": null,
      "metadata": {
        "id": "3PNomPUSOpRw"
      },
      "outputs": [],
      "source": [
        "#Tu codigo aqui\n",
        "menu = \"Menú de recomendaciones. \\n 1 Literatura. \\n 2 Cine. \\n 3 Música. \\n 4 Videojuegos. \\n 5 Salir.\"\n",
        "print(menu)\n",
        "opcion = (\"opcion 1\", \" opcion 2\", \"opcion 3\", \"opcion 4\" )\n",
        "\n",
        "salir = False\n",
        "while(not salir):\n",
        "     \n",
        "    num = int(input(\"Dame una opción o 5 para terminar: \"))\n",
        " \n",
        "    if(num==5):\n",
        "       print(\"Gracias, vuelva pronto\")\n",
        "       salir= True\n",
        "    else:\n",
        "        if(num==1):\n",
        "            print(opcion[num-1])\n",
        "            print(f'''Lecturas recomendables:\n",
        "Esperándolo a Tito y otros cuentos de fútbol (Eduardo Sacheri)\n",
        "El juego de Ender (Orson Scott Card)\n",
        "El sueño de los héroes (Adolfo Bioy Casares)''')\n",
        "        elif (num==2):\n",
        "          print(opcion[num-1])\n",
        "          print(f'''Películas recomendables:\n",
        "Matrix (1999)\n",
        "El último samuray (2003)\n",
        "Cars (2006)''')    \n",
        "        elif (num==3):\n",
        "          print(opcion[num-1])\n",
        "          print(f'''Discos recomendables:\n",
        "Despedazado por mil partes (La Renga, 1996)\n",
        "Búfalo (La Mississippi, 2008)\n",
        "Gaia (Mago de Oz, 2003)''') \n",
        "        elif (num==4):\n",
        "          print(opcion[num-1])\n",
        "          print(f'''Videojuegos clásicos recomendables\n",
        "Día del tentáculo (LucasArts, 1993)\n",
        "Terminal Velocity (Terminal Reality/3D Realms, 1995)\n",
        "Death Rally (Remedy/Apogee, 1996)''')  \n",
        "        else:\n",
        "            print(\"Opcion no valida\")"
      ]
    },
    {
      "cell_type": "markdown",
      "source": [
        "## Ejercicio 2 (1.5 puntos)\n",
        "Se pide por teclado un número y nos imprime los números primos que hay previos a este número.\n",
        "\n",
        "Ejemplo: si ingresamos el 10 nos imprima del 1 a ese 10 cuales números son primos.\n"
      ],
      "metadata": {
        "id": "hwpI5TwUPMNa"
      }
    },
    {
      "cell_type": "code",
      "source": [
        "\n",
        "n=int(input(\"Introduce un numero: \"))\n",
        "for i in range(2,n+1):\n",
        " contador=0\n",
        " for j in range(1,n+1):\n",
        "  if i%j==0:\n",
        "   contador+=1\n",
        " if contador==2:\n",
        "  print(i)  \n"
      ],
      "metadata": {
        "id": "TLccJKM3PQMI"
      },
      "execution_count": null,
      "outputs": []
    },
    {
      "cell_type": "markdown",
      "source": [
        "\n",
        "## Ejercicio 3 (1.5 puntos)\n",
        "Una persona adquirió un producto para pagar en 20 meses. El primer mes pagó 10 €, el segundo 20 €, el tercero 40 € y así sucesivamente. Realizar un algoritmo para determinar cuánto debe pagar mensualmente y el total de lo que pagó después de los 20 meses.\n",
        "\n",
        "Al finalizar los 20 meses pago en total:\n",
        "\n",
        "primer mes pago 10, segundo mes pago 20, tercer mes pago 30, cuarto mes pago 40, etc."
      ],
      "metadata": {
        "id": "OFocRk5oPSqp"
      }
    },
    {
      "cell_type": "code",
      "source": [
        "a=0\n",
        "for i in range(1,21):\n",
        "  a=a+i\n",
        "  print(f'El mes {i} pagara {i*10}')\n",
        "print(f'En total pago por el producto {a*10}')"
      ],
      "metadata": {
        "id": "bV0ApoCHPU_Z",
        "colab": {
          "base_uri": "https://localhost:8080/"
        },
        "outputId": "4c25014e-1f50-47c8-c381-7a3532b082e8"
      },
      "execution_count": 20,
      "outputs": [
        {
          "output_type": "stream",
          "name": "stdout",
          "text": [
            "El mes 1 pagara 10\n",
            "El mes 2 pagara 20\n",
            "El mes 3 pagara 30\n",
            "El mes 4 pagara 40\n",
            "El mes 5 pagara 50\n",
            "El mes 6 pagara 60\n",
            "El mes 7 pagara 70\n",
            "El mes 8 pagara 80\n",
            "El mes 9 pagara 90\n",
            "El mes 10 pagara 100\n",
            "El mes 11 pagara 110\n",
            "El mes 12 pagara 120\n",
            "El mes 13 pagara 130\n",
            "El mes 14 pagara 140\n",
            "El mes 15 pagara 150\n",
            "El mes 16 pagara 160\n",
            "El mes 17 pagara 170\n",
            "El mes 18 pagara 180\n",
            "El mes 19 pagara 190\n",
            "El mes 20 pagara 200\n",
            "En total pago por el producto 2100\n"
          ]
        }
      ]
    }
  ]
}