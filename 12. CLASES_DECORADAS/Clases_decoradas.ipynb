{
  "nbformat": 4,
  "nbformat_minor": 0,
  "metadata": {
    "colab": {
      "name": "Clases_decoradas.ipynb",
      "provenance": [],
      "authorship_tag": "ABX9TyPz+sNuKDAAx9v3f5nB3VK4",
      "include_colab_link": true
    },
    "kernelspec": {
      "name": "python3",
      "display_name": "Python 3"
    },
    "language_info": {
      "name": "python"
    }
  },
  "cells": [
    {
      "cell_type": "markdown",
      "metadata": {
        "id": "view-in-github",
        "colab_type": "text"
      },
      "source": [
        "<a href=\"https://colab.research.google.com/github/escuelaDeCodigoMargaritaMaza/Python/blob/main/12.%20CLASES_DECORADAS/Clases_decoradas.ipynb\" target=\"_parent\"><img src=\"https://colab.research.google.com/assets/colab-badge.svg\" alt=\"Open In Colab\"/></a>"
      ]
    },
    {
      "cell_type": "markdown",
      "source": [
        "# Clases Decoradoras\n",
        "Los decoradores son un patrón de diseño de software que alteran dinámicamente y agregan funcionalidades adicionales a los métodos, funciones o clases de Python sin tener que usar subclases o cambiar el código fuente decorada. Estos generalmente son herramientas muy útiles para el desarrollador ya que son muy fáciles de implementar, son legibles, reducen código, entre otras ventajas. En Python hay múltiples formas de crear decoradores.\n",
        "\n",
        "A través de los decoradores seremos capaces reducir las líneas de código duplicadas, haremos que nuestro código sea legible, fácil de testear y fácil de mantener\n",
        "\n",
        "En Python una función puede ser asignada a una variable, puede ser utilizada como argumento para otra función, o inclusive puede ser retornada.\n",
        "\n",
        "## EJEMPLO\n",
        "\n",
        "Tenemos una funciónc como la conocemos\n",
        "\n"
      ],
      "metadata": {
        "id": "F76iCV08Dk0a"
      }
    },
    {
      "cell_type": "code",
      "execution_count": null,
      "metadata": {
        "id": "mblQu7ulDhKF"
      },
      "outputs": [],
      "source": [
        "def saludar():\n",
        "  print('hola')\n",
        "\n",
        "saludar()"
      ]
    },
    {
      "cell_type": "markdown",
      "source": [
        "pero que pasa si deseamos modificar los parámetros de salida, es decir si quieramos que ahora la función imprima algo más? tendriamos que modificar directamente la función\n",
        "\n"
      ],
      "metadata": {
        "id": "0dXri2opDuIe"
      }
    },
    {
      "cell_type": "code",
      "source": [
        "def saludar():\n",
        "  print('saludo')\n",
        "  print('hola')\n",
        "  print('despedida')"
      ],
      "metadata": {
        "id": "gQbDtvlHDvzi"
      },
      "execution_count": null,
      "outputs": []
    },
    {
      "cell_type": "markdown",
      "source": [
        "Hay una manera más rápida y fácil de modificar las funciones, para ello se usan los decoradores.\n",
        "\n",
        "creamos el decorador\n",
        "\n"
      ],
      "metadata": {
        "id": "_R1w1TG-Dz7y"
      }
    },
    {
      "cell_type": "code",
      "source": [
        "def decorador(func):\n",
        "  def saludo():\n",
        "    print('saludo')\n",
        "    func()\n",
        "    print('despedida')\n",
        "  return saludo"
      ],
      "metadata": {
        "id": "6lXoLvGOD10P"
      },
      "execution_count": 2,
      "outputs": []
    },
    {
      "cell_type": "markdown",
      "source": [
        "func es una palabra reservada que indica se pasará una funcion como argumento, en este caso sera la función saludar.\n",
        "\n",
        "Par decorar la funcion saludar se ingresa con el @ el nombre de la función decoradora"
      ],
      "metadata": {
        "id": "K_B15kRWEMo_"
      }
    },
    {
      "cell_type": "code",
      "source": [
        "@decorador\n",
        "def saludar():\n",
        "  print('hola')\n",
        "saludar()"
      ],
      "metadata": {
        "id": "VCWBqTO5EO4v"
      },
      "execution_count": null,
      "outputs": []
    },
    {
      "cell_type": "markdown",
      "source": [
        "## EJEMPLO"
      ],
      "metadata": {
        "id": "R_fzbLmiFKed"
      }
    },
    {
      "cell_type": "code",
      "source": [
        "def division(a,b):\n",
        "  return a/b\n",
        "\n",
        "division(10,0)"
      ],
      "metadata": {
        "id": "iBvFm29JFNRh"
      },
      "execution_count": null,
      "outputs": []
    },
    {
      "cell_type": "markdown",
      "source": [
        "Para solucionar esta situación tendriamos que ir directamente a la función y añadir fucionalidad, quiza una condición para validar, pero se debe entrar a la función para la modificación o crear un decorador"
      ],
      "metadata": {
        "id": "P6kczg4GFZha"
      }
    },
    {
      "cell_type": "code",
      "source": [
        "def revisar(func): #func es una palabra reservada que le indica pasaremos como argumento otra función\n",
        "    def validacion(a,b):  #Como vimos en Python podemos tener funciones dentro de funciones y hasta funciones como argumentos\n",
        "        if b == 0:\n",
        "          print('no es posible dividir entre 0')\n",
        "          return  #para salir de la función\n",
        "        func(a,b) #se ejecuta en caso contrario la función que tenemos como argumento\n",
        "    return validacion  #vuelve a ejecutar la funcion de validación pero ya con los argumentos de func"
      ],
      "metadata": {
        "id": "aCEzVbfnFUWm"
      },
      "execution_count": 6,
      "outputs": []
    },
    {
      "cell_type": "markdown",
      "source": [
        "Ahí esta creado el decorador, solo basta pasarlo a la función primera para su uso"
      ],
      "metadata": {
        "id": "RC92QrpfFmlv"
      }
    },
    {
      "cell_type": "code",
      "source": [
        "@revisar\n",
        "def division(a,b):\n",
        "  return a/b\n",
        "\n",
        "division(10,0)"
      ],
      "metadata": {
        "id": "6ftobFp4Ff6w"
      },
      "execution_count": null,
      "outputs": []
    }
  ]
}