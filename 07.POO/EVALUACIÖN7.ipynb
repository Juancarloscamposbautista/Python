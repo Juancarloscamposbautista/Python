{
  "nbformat": 4,
  "nbformat_minor": 0,
  "metadata": {
    "colab": {
      "name": "Untitled8.ipynb",
      "provenance": []
    },
    "kernelspec": {
      "name": "python3",
      "display_name": "Python 3"
    },
    "language_info": {
      "name": "python"
    }
  },
  "cells": [
    {
      "cell_type": "code",
      "execution_count": 57,
      "metadata": {
        "colab": {
          "base_uri": "https://localhost:8080/",
          "height": 35
        },
        "id": "o2p_4lp9n8md",
        "outputId": "209309c6-4e22-4e62-e088-fd75155c77b2"
      },
      "outputs": [
        {
          "output_type": "execute_result",
          "data": {
            "text/plain": [
              "'Nombre:Juan Carlos - Edad:19 - DNI:qwerty'"
            ],
            "application/vnd.google.colaboratory.intrinsic+json": {
              "type": "string"
            }
          },
          "metadata": {},
          "execution_count": 57
        }
      ],
      "source": [
        "class Persona():\n",
        "\n",
        "    def __init__(self,nombre=\"\",edad=0,dni=\"\"):\n",
        "        self.nombre=nombre\n",
        "        self.edad=edad\n",
        "        self.dni=dni\n",
        "    \n",
        "    @property\n",
        "    def nombre(self):\n",
        "        return self.__nombre\n",
        "\n",
        "    @property\n",
        "    def edad(self):\n",
        "        return self.__edad\n",
        "\n",
        "    @property\n",
        "    def dni(self):\n",
        "        return self.__dni\n",
        "    \n",
        "    @nombre.setter\n",
        "    def nombre(self,nombre):\n",
        "        self.__nombre=nombre\n",
        "\n",
        "    def validar_dni(self):\n",
        "        \n",
        "        if len(self.__dni)!=6 and self.__dni!=\"qwerty\":\n",
        "            print(\"DNI incorrecto\")\n",
        "            self.__dni = \"\"\n",
        "        \n",
        "\n",
        "    @dni.setter\n",
        "    def dni(self,dni):\n",
        "        self.__dni=dni\n",
        "        self.validar_dni()\n",
        "      \n",
        "    @edad.setter\n",
        "    def edad(self,edad):\n",
        "        if edad < 0:\n",
        "            print(\"Edad incorrecta\")\n",
        "            self.__edad=0\n",
        "        else:\n",
        "            self.__edad=edad\n",
        "    \n",
        "    \n",
        "    def mostrar(self):\n",
        "        return \"Nombre:\"+self.nombre+\" - Edad:\"+str(self.edad)+\" - DNI:\"+self.dni\n",
        "\n",
        "    def esMayorDeEdad(self):\n",
        "        return self.edad>=18\n",
        "\n",
        "persona1=Persona(\"Juan Carlos\",19, \"qwerty\")\n",
        "persona1.mostrar()"
      ]
    },
    {
      "cell_type": "code",
      "source": [
        "class Cuenta():\n",
        "\n",
        "    def __init__(self,titular,cantidad=0):\n",
        "        self.titular=titular\n",
        "        self.__cantidad=cantidad\n",
        "    \n",
        "    @property\n",
        "    def titular(self):\n",
        "        return self.__titular\n",
        "    \n",
        "    @property\n",
        "    def cantidad(self):\n",
        "        return self.__cantidad\n",
        "\n",
        "    @titular.setter\n",
        "    def titular(self,titular):\n",
        "        self.__titular=titular\n",
        "\n",
        "       \n",
        "    def mostrar(self):\n",
        "        return \"Cuenta:\"+\"Titular:\"+self.titular +\"  Cantidad:\"+str(self.cantidad)\n",
        "    \n",
        "    def ingresar(self,cantidad):\n",
        "        if cantidad > 0:\n",
        "            self.__cantidad = self.__cantidad + cantidad\n",
        "    \n",
        "    def retirar(self,cantidad):\n",
        "        if cantidad > 0:\n",
        "            self.__cantidad = self.__cantidad - cantidad\n",
        "                  \n",
        "                  \n",
        "\n",
        "cuenta1=Cuenta(\"Juan carlos campos\", 0)\n",
        "cuenta1.mostrar()                "
      ],
      "metadata": {
        "colab": {
          "base_uri": "https://localhost:8080/",
          "height": 35
        },
        "id": "SaaFMm83odD5",
        "outputId": "dcd30c9f-5c3c-4584-9c3d-234a4d6b4d3b"
      },
      "execution_count": 77,
      "outputs": [
        {
          "output_type": "execute_result",
          "data": {
            "text/plain": [
              "'Cuenta:Titular:Juan carlos campos  Cantidad:0'"
            ],
            "application/vnd.google.colaboratory.intrinsic+json": {
              "type": "string"
            }
          },
          "metadata": {},
          "execution_count": 77
        }
      ]
    },
    {
      "cell_type": "code",
      "source": [
        "class Cuenta():\n",
        "\n",
        "    def __init__(self,titular,cantidad=0):\n",
        "        self.titular=titular\n",
        "        self.__cantidad=cantidad\n",
        "    \n",
        "    @property\n",
        "    def titular(self):\n",
        "        return self.__titular\n",
        "    \n",
        "    @property\n",
        "    def cantidad(self):\n",
        "        return self.__cantidad\n",
        "\n",
        "    @titular.setter\n",
        "    def titular(self,titular):\n",
        "        self.__titular=titular\n",
        "\n",
        "       \n",
        "    def mostrar(self):\n",
        "        return \"Cuenta:\"+\"Titular:\"+self.titular+\" - Cantidad:\"+str(self.cantidad)\n",
        "    \n",
        "    def ingresar(self,cantidad):\n",
        "        if cantidad > 0:\n",
        "            self.__cantidad = self.__cantidad + cantidad\n",
        "    \n",
        "    def retirar(self,cantidad):\n",
        "        if cantidad > 0:\n",
        "            self.__cantidad = self.__cantidad - cantidad\n",
        "\n",
        "class CuentaJoven(Cuenta):\n",
        "\n",
        "    def __init__(self,titular,cantidad=0,bonificacion=0):\n",
        "        super().__init__(titular,cantidad)\n",
        "        self.bonificacion=bonificacion\n",
        "    \n",
        "    @property\n",
        "    def bonificacion(self):\n",
        "        return self.__bonificacion\n",
        "    \n",
        "    @bonificacion.setter\n",
        "    def bonificacion(self,bonificacion):\n",
        "        self.__bonificacion=bonificacion\n",
        "\n",
        "    def mostrar(self):\n",
        "        return \"Cuenta Joven  \"  +\"Titular:\"+self.titular+\"   Cantidad:\"+str(self.cantidad)+ \"  Bonificación:\"+str(self.bonificacion)+\"%\" \n",
        "   \n",
        "    def esTitularValido(self):\n",
        "        return self.titular.edad < 25 and self.titular.esMayorDeEdad()\n",
        "    \n",
        "    def retirar(self,cantidad):\n",
        "        if not self.esTitularValido():\n",
        "            print (\"No puesdes retirar el dinero. titular no válido\")\n",
        "        elif cantidad > 0:\n",
        "            super().retirar(cantidad)\n",
        "CuentaJoven1=CuentaJoven(\"juan carlos\",\"10000\",\"10\")\n",
        "CuentaJoven1.mostrar()"
      ],
      "metadata": {
        "colab": {
          "base_uri": "https://localhost:8080/",
          "height": 35
        },
        "id": "h_ly9vjyoljw",
        "outputId": "a1f19780-22d4-4c07-ec48-e36db05ec728"
      },
      "execution_count": 87,
      "outputs": [
        {
          "output_type": "execute_result",
          "data": {
            "text/plain": [
              "'Cuenta Joven  Titular:juan carlos   Cantidad:10000  Bonificación:10%'"
            ],
            "application/vnd.google.colaboratory.intrinsic+json": {
              "type": "string"
            }
          },
          "metadata": {},
          "execution_count": 87
        }
      ]
    }
  ]
}