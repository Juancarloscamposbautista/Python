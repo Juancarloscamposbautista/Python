{
  "nbformat": 4,
  "nbformat_minor": 0,
  "metadata": {
    "colab": {
      "name": "librerias.ipynb",
      "provenance": [],
      "authorship_tag": "ABX9TyM0o9k/up3PNmUTCJKF8ohs",
      "include_colab_link": true
    },
    "kernelspec": {
      "name": "python3",
      "display_name": "Python 3"
    },
    "language_info": {
      "name": "python"
    }
  },
  "cells": [
    {
      "cell_type": "markdown",
      "metadata": {
        "id": "view-in-github",
        "colab_type": "text"
      },
      "source": [
        "<a href=\"https://colab.research.google.com/github/escuelaDeCodigoMargaritaMaza/Python/blob/main/15.%20BIBLIOTECAS_Y_MODULOS/librerias.ipynb\" target=\"_parent\"><img src=\"https://colab.research.google.com/assets/colab-badge.svg\" alt=\"Open In Colab\"/></a>"
      ]
    },
    {
      "cell_type": "markdown",
      "source": [
        "## pandas\n",
        "pandas es una biblioteca de código abierto que proporciona estructuras de datos y herramientas de análisis de datos para programadores de Python\n",
        "\n",
        "\n",
        "\n"
      ],
      "metadata": {
        "id": "RUv7T0tn23L5"
      }
    },
    {
      "cell_type": "code",
      "source": [
        "import pandas as pd\n",
        "Series\n",
        "Las Series son una matriz unidimensional, similar a una lista de Python\n",
        "\n",
        "ciudades = pd.Series([\n",
        "                      'Monterrey', \n",
        "                      'Guadalajara', \n",
        "                      'León', \n",
        "                      'CDMX', \n",
        "                      'Chihuahua', \n",
        "                      'Veracruz', \n",
        "                      'Nayarit'\n",
        "                      ])\n",
        "\n",
        "# Al usar un cuaderno, puede usar la declaración de impresión\n",
        "# print(ciudades) para examinar el contenido de una variable\n",
        "# o puede imprimir un valor en la pantalla simplemente escribiendo el nombre del objeto\n",
        "\n",
        "ciudades"
      ],
      "metadata": {
        "id": "wKCbaOMz3BD_"
      },
      "execution_count": null,
      "outputs": []
    },
    {
      "cell_type": "markdown",
      "source": [
        "\\Puedes hacer referencia a un valor individual en una Serie usando su índice"
      ],
      "metadata": {
        "id": "Smn3bXt93YJG"
      }
    },
    {
      "cell_type": "code",
      "execution_count": null,
      "metadata": {
        "id": "LgM60Txl2qEl"
      },
      "outputs": [],
      "source": [
        "\n",
        "ciudades[1]"
      ]
    },
    {
      "cell_type": "markdown",
      "source": [
        "Puede usar un ciclo para iterar a través de todos los valores en una Serie"
      ],
      "metadata": {
        "id": "bey6h9cO3a-K"
      }
    },
    {
      "cell_type": "code",
      "source": [
        "for ciudad in ciudades:\n",
        "    print(ciudad) "
      ],
      "metadata": {
        "id": "1IXsvytK3es1"
      },
      "execution_count": null,
      "outputs": []
    },
    {
      "cell_type": "markdown",
      "source": [
        "### DataFrame\n",
        "La mayoría de las veces, cuando trabajamos con pandas, tratamos con matrices bidimensionales.\n",
        "\n",
        "Los pandas DataFrame pueden almacenar arreglos bidimensionales"
      ],
      "metadata": {
        "id": "xjoOV0fp3h9p"
      }
    },
    {
      "cell_type": "code",
      "source": [
        "ciudades = pd.DataFrame([\n",
        "                        ['Monterrey', 'Escobedo', 'Abasolo'],\n",
        "                        ['Veracruz', 'Jalapa', 'Córdoba'],\n",
        "                        ['Guadalajara', 'Tequila', 'Puerto Vallarta'],\n",
        "                        ['Azcapotzalco', 'GAM', 'Iztapalapa'],\n",
        "                        ['Delicias', 'Parral', 'Aldama'],\n",
        "                        ['Tijuana', 'Mexicali', 'Ensenada'],\n",
        "                        ['Jérez', 'Fresnillo', 'Guadalupe']\n",
        "                        ])\n",
        "\n",
        "ciudades"
      ],
      "metadata": {
        "id": "Vr26XLa83lPU"
      },
      "execution_count": null,
      "outputs": []
    },
    {
      "cell_type": "markdown",
      "source": [
        "Utilice el parámetro columnas para especificar nombres para las columnas cuando cree el marco de datos"
      ],
      "metadata": {
        "id": "GYMKkO4J3nQW"
      }
    },
    {
      "cell_type": "code",
      "source": [
        "aeropuertos_del_mundo = pd.DataFrame([\n",
        "                        ['Seatte-Tacoma', 'Seattle', 'USA'],\n",
        "                        ['Dulles', 'Washington', 'USA'],\n",
        "                        ['London Heathrow', 'Londres', 'Inglaterra'],\n",
        "                        ['Schiphol', 'Amsterdam', 'Holanda'],\n",
        "                        ['Changi', 'Singapr', 'Singapur'],\n",
        "                        ['Pearson', 'Toronto', 'Canada'],\n",
        "                        ['Narita', 'Tokyo', 'Japon']\n",
        "                        ],\n",
        "                        columns = ['Nombre', 'Ciudad', 'País']\n",
        "                        )\n",
        "\n",
        "aeropuertos_del_mundo "
      ],
      "metadata": {
        "id": "7BUjaVP33pWQ"
      },
      "execution_count": null,
      "outputs": []
    },
    {
      "cell_type": "markdown",
      "source": [
        "### Devolviendo las primeras n filas\n",
        "Si tiene miles de filas, es posible que desee ver las primeras filas\n",
        "\n",
        "head(n) devuelve las primeras n filas"
      ],
      "metadata": {
        "id": "5dzP2Jrv3sGg"
      }
    },
    {
      "cell_type": "code",
      "source": [
        "aeropuertos_del_mundo.head(3)"
      ],
      "metadata": {
        "id": "0DmR1MR-3uQM"
      },
      "execution_count": null,
      "outputs": []
    },
    {
      "cell_type": "markdown",
      "source": [
        "### Devolviendo las últimas n filas\n",
        "Mirar las últimas filas en un DataFrame puede ser una buena manera de verificar que todos sus datos se cargaron correctamente\n",
        "\n",
        "tail(n) devuelve las últimas n filas"
      ],
      "metadata": {
        "id": "19bVbvLg3zTg"
      }
    },
    {
      "cell_type": "code",
      "source": [
        "aeropuertos_del_mundo.tail(3)"
      ],
      "metadata": {
        "id": "Xm0VMPdw35aJ"
      },
      "execution_count": null,
      "outputs": []
    },
    {
      "cell_type": "markdown",
      "source": [
        "### Comprobar el número de filas y columnas en DataFrame\n",
        "A veces solo necesita saber cuántos datos tiene en el DataFrame\n",
        "\n",
        "forma devuelve el número de filas y columnas"
      ],
      "metadata": {
        "id": "2fNU56fH37dB"
      }
    },
    {
      "cell_type": "code",
      "source": [
        "aeropuertos_del_mundo.shape"
      ],
      "metadata": {
        "id": "3LZfeAXM3-K-"
      },
      "execution_count": null,
      "outputs": []
    },
    {
      "cell_type": "markdown",
      "source": [
        "### Obtener más información detallada sobre los contenidos de DataFrame\n",
        "info() devuelve información más detallada sobre el DataFrame La información devuelta incluye:\n",
        "\n",
        "* El número de filas y el rango de valores de índice\n",
        "* El número de columnas\n",
        "* Para cada columna: nombre de columna, número de valores no nulos, el tipo de datos"
      ],
      "metadata": {
        "id": "PNfa3l1m4AC4"
      }
    },
    {
      "cell_type": "code",
      "source": [
        "aeropuertos_del_mundo.info()"
      ],
      "metadata": {
        "id": "47FYlMKb4GkM"
      },
      "execution_count": null,
      "outputs": []
    },
    {
      "cell_type": "markdown",
      "source": [
        "### Consultar un marco de datos de pandas\n",
        "Devolver una parte de los datos en un DataFrame se llama cortar o dividir los datos.\n",
        "\n",
        "### Devuelve una columna\n",
        "Especifique el nombre de la columna que desea devolver\n",
        "\n",
        "Nombre del marco de datos ['nombre de la columna']"
      ],
      "metadata": {
        "id": "lixO6wYe4I_a"
      }
    },
    {
      "cell_type": "code",
      "source": [
        "aeropuertos_del_mundo['Ciudad']"
      ],
      "metadata": {
        "id": "z1Be5X_Y4MyR"
      },
      "execution_count": null,
      "outputs": []
    },
    {
      "cell_type": "markdown",
      "source": [
        "### Devolver varias columnas\n",
        "Proporcione una lista de las columnas que desea devolver\n",
        "\n",
        "DataFrameName[['FirstColumnName','SecondColumnName',...]]"
      ],
      "metadata": {
        "id": "ZNtUe4j74O5G"
      }
    },
    {
      "cell_type": "code",
      "source": [
        "aeropuertos_del_mundo[['Nombre', 'País']]"
      ],
      "metadata": {
        "id": "22WN9bWI4Rht"
      },
      "execution_count": null,
      "outputs": []
    },
    {
      "cell_type": "markdown",
      "source": [
        "Uso de iloc para especificar filas y columnas para devolver\n",
        "iloc[rows,columns] le permite acceder a un grupo de filas o columnas por posiciones de índice de fila y columna.\n",
        "\n",
        "Usted especifica la fila y la columna específicas que desea devolver\n",
        "\n",
        "La primera fila es la fila 0 La primera columna es la columna 0"
      ],
      "metadata": {
        "id": "RiMddHPY4UC3"
      }
    },
    {
      "cell_type": "code",
      "source": [
        "aeropuertos_del_mundo.iloc[0,0]\n"
      ],
      "metadata": {
        "id": "UHxksxep4XBJ"
      },
      "execution_count": null,
      "outputs": []
    },
    {
      "cell_type": "code",
      "source": [
        "aeropuertos_del_mundo.iloc[2,2]\n"
      ],
      "metadata": {
        "id": "P_5932Mq4YN8"
      },
      "execution_count": null,
      "outputs": []
    },
    {
      "cell_type": "code",
      "source": [
        "aeropuertos_del_mundo.iloc[:,:]\n"
      ],
      "metadata": {
        "id": "Mo5FcfkW4Zgi"
      },
      "execution_count": null,
      "outputs": []
    },
    {
      "cell_type": "code",
      "source": [
        "airporaeropuertos_del_mundots.loc[:,['Nombre', 'País']]"
      ],
      "metadata": {
        "id": "I9k9GaBp4a0z"
      },
      "execution_count": null,
      "outputs": []
    },
    {
      "cell_type": "markdown",
      "source": [
        "### DESCARGAR EN MP3 VIDE DE YOUTUBE"
      ],
      "metadata": {
        "id": "55eecSge4dMu"
      }
    },
    {
      "cell_type": "code",
      "source": [
        "!pip install pytube\n",
        "\n",
        "from pytube import YouTube\n",
        "import os\n",
        "\n",
        "yt = YouTube(str(input('Ingresa la direccion del video de youtube')))\n",
        "video = yt.streams.filter(only_audio=True).first()\n",
        "\n",
        "print('Ingresa el destino para guaradr el video')\n",
        "destination = str(input('>> ')) or '_'\n",
        "\n",
        "out_file =video.download(output_path =destination)\n",
        "\n",
        "base,ext =os.path.splitext(out_file)\n",
        "new_file = base +'.mp3'\n",
        "os.rename(out_file,new_file)\n",
        "\n",
        "print(yt.title + 'se ha descargado el videp en formato mp3')"
      ],
      "metadata": {
        "id": "k9yHMl524sku"
      },
      "execution_count": null,
      "outputs": []
    },
    {
      "cell_type": "markdown",
      "source": [
        "## RECORTAR DIRECCIONES WEB"
      ],
      "metadata": {
        "id": "T0QBN_e3-4Ea"
      }
    },
    {
      "cell_type": "code",
      "source": [
        "!pip install pyshorteners\n",
        "\n",
        "import pyshorteners\n",
        "url_larga = input('inhgresa la dirección web que quieres recortar')\n",
        "\n",
        "type_tiny = pyshorteners.Shortener()\n",
        "url_corta = type_tiny.tinyurl.short(url_larga)\n",
        "\n",
        "print('La dirección de la página recortada es : ' + url_corta)"
      ],
      "metadata": {
        "id": "MNmR1YZi-9Hk"
      },
      "execution_count": null,
      "outputs": []
    },
    {
      "cell_type": "markdown",
      "source": [
        "## IMPRIMIR EMOJIS"
      ],
      "metadata": {
        "id": "2ChqKuiPAkTp"
      }
    },
    {
      "cell_type": "code",
      "source": [
        "!pip install emoji\n",
        "\n",
        "import emoji\n",
        "\n",
        "print(emoji.emojize(':baby:'))\n",
        "print(emoji.emojize(':rose:'))\n",
        "print(emoji.emojize(':red_heart:'))\n",
        "print(emoji.emojize(':books:'))"
      ],
      "metadata": {
        "id": "MKKYiABVAn2J"
      },
      "execution_count": null,
      "outputs": []
    },
    {
      "cell_type": "markdown",
      "source": [
        "## CREAR FONT ART"
      ],
      "metadata": {
        "id": "NDKiK3AEBQ-z"
      }
    },
    {
      "cell_type": "code",
      "source": [
        "!pip install pyfiglet\n",
        "\n",
        "import pyfiglet\n",
        "font = pyfiglet.figlet_format('PILARES')\n",
        "\n",
        "print(font)"
      ],
      "metadata": {
        "id": "aTwP_LiWBTmJ"
      },
      "execution_count": null,
      "outputs": []
    },
    {
      "cell_type": "markdown",
      "source": [
        "## CENSOR DE PALABRAS"
      ],
      "metadata": {
        "id": "OE5xe0FUBwVk"
      }
    },
    {
      "cell_type": "code",
      "source": [
        "!pip install better_profanity\n",
        "\n",
        "from better_profanity import profanity\n",
        "\n",
        "texto = input('INGRESA TU FRASE AQUI ')\n",
        "censored = profanity.censor(texto)\n",
        "print(censored)"
      ],
      "metadata": {
        "id": "gufHe8pLB1EK"
      },
      "execution_count": null,
      "outputs": []
    },
    {
      "cell_type": "markdown",
      "source": [
        "## CODIGO POSTAL MUNDIAL"
      ],
      "metadata": {
        "id": "rHLyIUJgDhyn"
      }
    },
    {
      "cell_type": "code",
      "source": [
        "!pip install geopy\n",
        "\n",
        "from geopy import Nominatim\n",
        "geolocator=Nominatim(user_agent='geoapiEcercises')\n",
        "place = input('Ingresa la localidad')\n",
        "location = geolocator.geocode(place)\n",
        "print(location)"
      ],
      "metadata": {
        "id": "Yc8k7IerDkqz"
      },
      "execution_count": null,
      "outputs": []
    },
    {
      "cell_type": "markdown",
      "source": [
        "## CALENDARIO"
      ],
      "metadata": {
        "id": "TMwYrwBHEhLQ"
      }
    },
    {
      "cell_type": "code",
      "source": [
        "from calendar import *\n",
        "year = int(input('ingresa el año '))\n",
        "print(calendar(year,2,1,8,4))"
      ],
      "metadata": {
        "id": "kXB6jhZJEjq8"
      },
      "execution_count": null,
      "outputs": []
    },
    {
      "cell_type": "markdown",
      "source": [
        "## DETECCION DEL LENGUAJE\n"
      ],
      "metadata": {
        "id": "wg4iY0j9FNfT"
      }
    },
    {
      "cell_type": "code",
      "source": [
        "!pip install langdetect\n",
        "\n",
        "from langdetect import detect\n",
        "text = input('ingresa una frase en cualquier idioma ')\n",
        "print(detect(text))\n"
      ],
      "metadata": {
        "id": "IyKvwTmeFQ_w"
      },
      "execution_count": null,
      "outputs": []
    },
    {
      "cell_type": "markdown",
      "source": [
        "## INFORMACION DE PAISES"
      ],
      "metadata": {
        "id": "1AVl1l0BG0n_"
      }
    },
    {
      "cell_type": "code",
      "source": [
        "!pip install countryinfo\n",
        "\n",
        "from countryinfo import CountryInfo\n",
        "count = input('Ingresa el nombre del país del que requieres información')\n",
        "country = CountryInfo(count)\n",
        "print('La capital es: ',country.capital())\n",
        "print('La abreviatura es: ',country.currencies())\n",
        "print('El lenguaje es: ',country.languages())\n",
        "print('Hace frontera con: ',country.borders())\n",
        "print('Otros nombres son: ',country.alt_spellings())"
      ],
      "metadata": {
        "id": "E6LnxVbEG3c5"
      },
      "execution_count": null,
      "outputs": []
    },
    {
      "cell_type": "markdown",
      "source": [
        "## GENERADOR DE QR"
      ],
      "metadata": {
        "id": "XSoUtDLXIn6x"
      }
    },
    {
      "cell_type": "code",
      "source": [
        "!pip install pyqrcode\n",
        "!pip install pypng\n",
        "import pyqrcode \n",
        "import png\n",
        "\n",
        "link = input('Ingresa la dirección web que quieres hacer qr')\n",
        "qr_code = pyqrcode.create(link)\n",
        "qr_code.png('codigo.png',scale=5)"
      ],
      "metadata": {
        "id": "PB-DjqJNI0hE"
      },
      "execution_count": null,
      "outputs": []
    },
    {
      "cell_type": "markdown",
      "source": [
        "Biblioteca ipwidwets para crear un botón"
      ],
      "metadata": {
        "id": "I5bd4M4cK5Cj"
      }
    },
    {
      "cell_type": "code",
      "source": [
        "import ipywidgets as widgets\n",
        "\n",
        "activacion = widgets.ToggleButton(\n",
        "    value=False,\n",
        "    description='Iniciar boton',\n",
        "    button_style='primary', #este indica el color\n",
        "    icon='rocket' #el icono que utilizará, hay un catálogo de iconos\n",
        ")\n",
        "\n",
        "output = widgets.Output()\n",
        "\n",
        "display(activacion, output)\n",
        "\n",
        "def cambio_de_valores(change):\n",
        "    with output:\n",
        "        if change['new'] == True:\n",
        "            print(\"Botón Iniciado!\")\n",
        "        else:   \n",
        "            print(\"Botón Detenido\")\n",
        "\n",
        "activacion.observe(cambio_de_valores, names='value')"
      ],
      "metadata": {
        "id": "P4HXrVX4KppN"
      },
      "execution_count": null,
      "outputs": []
    },
    {
      "cell_type": "markdown",
      "source": [
        "Usando numpy y matplotlib para gráficar 10 numeros enteros, al azar, en un rango del 1 al 10"
      ],
      "metadata": {
        "id": "VY2b2bzbK0ve"
      }
    },
    {
      "cell_type": "code",
      "source": [
        "import numpy as np\n",
        "import matplotlib.pyplot as plt\n",
        "dato = np.random.default_rng()\n",
        "variacion = dato.integers(low=1, high=10, size=10)\n",
        "\n",
        "plt.bar(range(len(variacion)), variacion)\n",
        "plt.show()"
      ],
      "metadata": {
        "id": "u9KWNfZbKxtW"
      },
      "execution_count": null,
      "outputs": []
    }
  ]
}