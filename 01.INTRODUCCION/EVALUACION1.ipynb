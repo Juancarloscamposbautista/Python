{
  "nbformat": 4,
  "nbformat_minor": 0,
  "metadata": {
    "colab": {
      "name": "EVALUACION1.ipynb",
      "provenance": []
    },
    "kernelspec": {
      "name": "python3",
      "display_name": "Python 3"
    },
    "language_info": {
      "name": "python"
    }
  },
  "cells": [
    {
      "cell_type": "markdown",
      "source": [
        "# Práctica 1. \n",
        "6 puntos\n",
        "\n",
        "1 Práctica 1: Conociendo Python.\n",
        "\n",
        "Objetivo: Identificar el nivel de comprensión de los conceptos mediante preguntas abiertas.\n",
        "\n",
        "Responder las siguientes preguntas:\n",
        "\n"
      ],
      "metadata": {
        "id": "j1eqhlwTACMT"
      }
    },
    {
      "cell_type": "markdown",
      "source": [
        "\n",
        "1.1 ¿Qué es python? (2 puntos)\n",
        "\n",
        " Tu respuesta aquí\n",
        " Es un lenguaje de programación fuertemente tipado y orientado a objetos.\n",
        "\n",
        "1.2 ¿Es multiplataforma en que sistemas operativos funciona ? (2 puntos)\n",
        "\n",
        " Tu respuesta aquí\n",
        " Es un lenguaje de programación multiplataforma.\n",
        " \n",
        "1.3 Ejercicio 1 (2 puntos) Escribir un programa que pregunte al usuario su nombre, y luego lo salude.\n"
      ],
      "metadata": {
        "id": "8rolc7oNANvo"
      }
    },
    {
      "cell_type": "code",
      "source": [
        "#Tú código aquí\n",
        "nom=input(\"¿Cual es tu nombre?\")\n",
        "print(\"Hola \",nom,\"buenos dias\")"
      ],
      "metadata": {
        "id": "OpcH1h40AXRD",
        "outputId": "fd435e8a-5882-4d53-a3aa-86045d622086",
        "colab": {
          "base_uri": "https://localhost:8080/"
        }
      },
      "execution_count": 1,
      "outputs": [
        {
          "output_type": "stream",
          "name": "stdout",
          "text": [
            "¿Cual es tu nombre?juan carlos campos\n",
            "Hola  juan carlos campos buenos dias\n"
          ]
        }
      ]
    }
  ]
}