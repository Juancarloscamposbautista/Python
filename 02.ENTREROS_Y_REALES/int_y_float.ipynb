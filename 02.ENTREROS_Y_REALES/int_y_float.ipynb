{
  "nbformat": 4,
  "nbformat_minor": 0,
  "metadata": {
    "colab": {
      "name": "int_y_float.ipynb",
      "provenance": [],
      "collapsed_sections": []
    },
    "kernelspec": {
      "name": "python3",
      "display_name": "Python 3"
    },
    "language_info": {
      "name": "python"
    }
  },
  "cells": [
    {
      "cell_type": "markdown",
      "source": [
        "# Para capturar información del usuario, utilice la función input()"
      ],
      "metadata": {
        "id": "aAzDhQXn7m_b"
      }
    },
    {
      "cell_type": "code",
      "execution_count": 6,
      "metadata": {
        "id": "242f2CPa69TN",
        "outputId": "b195fcc4-591b-4766-c87c-856faa76f5f5",
        "colab": {
          "base_uri": "https://localhost:8080/"
        }
      },
      "outputs": [
        {
          "output_type": "stream",
          "name": "stdout",
          "text": [
            "Bienvenido al taller de Python en PILARES\n",
            "Introduce tú nombre Juan carlos\n",
            "Bienvenido:  Juan carlos\n"
          ]
        }
      ],
      "source": [
        "print(\"Bienvenido al taller de Python en PILARES\")\n",
        "name = input(\"Introduce tú nombre \")\n",
        "print(\"Bienvenido: \" , name)"
      ]
    },
    {
      "cell_type": "markdown",
      "source": [
        "# Trabajar con números\n",
        "La función almacena un resultado como una cadena. Por lo tanto, es posible que el siguiente código no haga lo que desea que haga: input()\n",
        "\n"
      ],
      "metadata": {
        "id": "ZcNt0zNY7xEs"
      }
    },
    {
      "cell_type": "code",
      "source": [
        "print(\"Calculadora\")\n",
        "first_number = input(\"Primer número: \")\n",
        "second_number = input(\"Segundo número: \")\n",
        "print(first_number + second_number)"
      ],
      "metadata": {
        "id": "L1gvq4_7700Y",
        "outputId": "e5a6e4db-8b62-49bc-8c1b-9564573f714f",
        "colab": {
          "base_uri": "https://localhost:8080/"
        }
      },
      "execution_count": 4,
      "outputs": [
        {
          "output_type": "stream",
          "name": "stdout",
          "text": [
            "Calculadora\n",
            "Primer número: 1\n",
            "Segundo número: 5\n",
            "15\n"
          ]
        }
      ]
    },
    {
      "cell_type": "markdown",
      "source": [
        "Probablemente quieres que este programa te responda con la suma pero dará un número diferente. ¿qué salió mal?\n",
        "\n",
        "La explicación es que el programa toma ambos números como si fuesen 'cadenas de texto'. Para que el cálculo funcione correctamente, debe cambiar esas cadenas a números mediante la función int(). Modificando la última línea del programa a utilizar, puede resolver el problema:"
      ],
      "metadata": {
        "id": "QLW2llQR762d"
      }
    },
    {
      "cell_type": "code",
      "source": [
        "print(int(first_number) + int(second_number))"
      ],
      "metadata": {
        "id": "Bqz03njY7_i9",
        "outputId": "e802072e-8663-4a5d-cbe5-be82c4d8febb",
        "colab": {
          "base_uri": "https://localhost:8080/"
        }
      },
      "execution_count": 5,
      "outputs": [
        {
          "output_type": "stream",
          "name": "stdout",
          "text": [
            "6\n"
          ]
        }
      ]
    },
    {
      "cell_type": "markdown",
      "source": [
        "# EJERCICIO 1\n",
        "Construir un convertidor de unidades de centimetros a metros (el formato del resultado deberá ser: X cm son igual a X metros, según el usuarios ingrese la cantidad a convertir)."
      ],
      "metadata": {
        "id": "4qQAtf1n-mPx"
      }
    },
    {
      "cell_type": "code",
      "source": [
        "#Tu código aquí\n",
        "print(\"Convertidor de unidades de centimetros a metros\")\n",
        "cen=float(input(\"Ingresa la cantidad de centimetros a convertir \"))\n",
        "met=cen/100\n",
        "print(cen,\"cm son igual a \",met,\"metros\" )"
      ],
      "metadata": {
        "id": "LfnRmfE3_SQa",
        "outputId": "58d14173-6094-4419-da43-bb9c2504b0d8",
        "colab": {
          "base_uri": "https://localhost:8080/"
        }
      },
      "execution_count": 11,
      "outputs": [
        {
          "output_type": "stream",
          "name": "stdout",
          "text": [
            "Convertidor de unidades de centimetros a metros\n",
            "Ingresa la cantidad de centimetros a convertir 150\n",
            "150.0 cm son igual a  1.5 metros\n"
          ]
        }
      ]
    },
    {
      "cell_type": "markdown",
      "source": [
        "# EJERCICIO 2\n",
        "Exploremos cómo podemos crear un programa que pueda calcular la distancia entre dos planetas EN KILOMETROS. Comenzaremos conociendo las distancias de planetas al sol: \n",
        "\n",
        "Planeta Y Distancia al sol\n",
        "\n",
        "Mercurio 57900000\n",
        "\n",
        "Venus 108200000\n",
        "\n",
        "Tierra 149600000\n",
        "\n",
        "Marte 227900000\n",
        "\n",
        "Júpiter 778600000\n",
        "\n",
        "Saturno 1433500000\n",
        "\n",
        "Urano 2872500000\n",
        "\n",
        "Neptuno 4495100000\n",
        "\n",
        "PASOS:\n",
        "\n",
        "a) Lee los valores\n",
        "\n",
        "Usando input, agrega el código para leer la distancia del sol para cada planeta, considerando 2 planetas.\n",
        "\n",
        "b)Convertir a número\n",
        "\n",
        "Debido a que input devuelve valores de cadena, necesitamos convertirlos en números. Para nuestro ejemplo, usaremos int\n",
        "\n",
        "c)Realizar el cálculo y convertir a valor absoluto\n",
        "\n",
        "Con los valores almacenados como números, ahora puedes agregar el código para realizar el cálculo, restando el primer planeta del segundo. Debido a que el segundo planeta podría ser un número mayor, usarás abs para convertirlo a un valor absoluto\n",
        "\n",
        "d)Prueba tu aplicación"
      ],
      "metadata": {
        "id": "fQKrIG5VE9PO"
      }
    },
    {
      "cell_type": "code",
      "source": [
        "#Tu código aquí\n",
        "planeta1=float(input(\"ingresa la distancia al sol del primer planeta\"))\n",
        "planeta2=float(input(\"ingresa la distancia al sol del segundo planeta\"))\n",
        "distancia_entre_los_planetas=abs(planeta1-planeta2)\n",
        "print(\"Distancia entre los dos planetas es de \",distancia_entre_los_planetas,\"km\")"
      ],
      "metadata": {
        "id": "qmqAFLG5FlvT",
        "outputId": "87022289-4912-401b-d696-584e12d77f97",
        "colab": {
          "base_uri": "https://localhost:8080/"
        }
      },
      "execution_count": 14,
      "outputs": [
        {
          "output_type": "stream",
          "name": "stdout",
          "text": [
            "ingresa la distancia al sol del primer planeta 57900000\n",
            "ingresa la distancia al sol del segundo planeta 4495100000\n",
            "Distancia entre los dos planetas es de  4437200000.0 km\n"
          ]
        }
      ]
    },
    {
      "cell_type": "markdown",
      "source": [
        "# Soluciones propuestas"
      ],
      "metadata": {
        "id": "qcOp0oXTFrhJ"
      }
    },
    {
      "cell_type": "code",
      "source": [
        "numero1 = int(input('ingresa el numero de metros '))\n",
        "print('El total de centrimetros en ',numero1,\" metros es de \",numero1*100)"
      ],
      "metadata": {
        "id": "-rR1sZJUFvUp"
      },
      "execution_count": null,
      "outputs": []
    },
    {
      "cell_type": "code",
      "source": [
        "distancia1 = int(input('ingresa la distancia al sol del primer planeta'))\n",
        "distancia2 = int(input('ingresa la distancia al sol del segundo planeta'))\n",
        "distancia_entre_planetas = abs(distancia1-distancia2)\n",
        "print(distancia_entre_planetas)"
      ],
      "metadata": {
        "id": "Zz-AjsURGeMy"
      },
      "execution_count": null,
      "outputs": []
    }
  ]
}