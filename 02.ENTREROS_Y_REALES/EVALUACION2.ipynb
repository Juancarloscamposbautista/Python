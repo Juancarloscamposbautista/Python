{
  "nbformat": 4,
  "nbformat_minor": 0,
  "metadata": {
    "colab": {
      "name": "EVALUACION2.ipynb",
      "provenance": []
    },
    "kernelspec": {
      "name": "python3",
      "display_name": "Python 3"
    },
    "language_info": {
      "name": "python"
    }
  },
  "cells": [
    {
      "cell_type": "markdown",
      "source": [
        "# Práctica 2. \n",
        "6 puntos\n",
        "\n",
        "### 2 Práctica  Números enteros y reales.\n",
        "\n",
        "Realiza los ejercicios de acuerdo a las indicaciones\n",
        "\n",
        "2.1 Ejercicio 1 (1.5 puntos)\n",
        "\n",
        "Escribir un programa que convierta un valor dado en grados Fahrenheit a grados Celsius."
      ],
      "metadata": {
        "id": "sZwziQp3dWqo"
      }
    },
    {
      "cell_type": "code",
      "source": [
        "#tU CÓDIGO AQUI\n",
        "print(\"Convertidor de grados Fahrenheit a grados Celsius\")\n",
        "fah=float(input(\"Ingresa la cantidad de grados Fahrenheit a convertir \"))\n",
        "cela=fah-32\n",
        "cel=cela*(5/9)\n",
        "print(fah,\"grados Fahrenheit son igual a \",cel,\"grados Celsius\" )"
      ],
      "metadata": {
        "id": "ATUeLXAvdKdP",
        "outputId": "128090bf-12a8-4113-a7a9-6ace42dd6b2e",
        "colab": {
          "base_uri": "https://localhost:8080/"
        }
      },
      "execution_count": 7,
      "outputs": [
        {
          "output_type": "stream",
          "name": "stdout",
          "text": [
            "Convertidor de grados Fahrenheit a grados Celsius\n",
            "Ingresa la cantidad de grados Fahrenheit a convertir 52\n",
            "52.0 grados Fahrenheit son igual a  11.11111111111111 grados Celsius\n"
          ]
        }
      ]
    },
    {
      "cell_type": "markdown",
      "source": [
        "2.2 Ejercicio 2 (1.5 puntos)\n",
        "\n",
        "Dados dos números, mostrar la suma, resta, división y multiplicación de ambos.\n",
        "\n"
      ],
      "metadata": {
        "id": "8ubdyEbEdMeW"
      }
    },
    {
      "cell_type": "code",
      "source": [
        "#Tu código aqui\n",
        "print(\"Operaciones basicas entre dos numeros\")\n",
        "uno=float(input(\"Ingresa un número \"))\n",
        "dos=float(input(\"Ingresa otro número \"))\n",
        "print(f\"suma {uno+dos}\\nresta {uno-dos} \\ndivisión {uno/dos}\\nmultiplicacón {uno*dos}\")"
      ],
      "metadata": {
        "id": "XQEFFzmSdPCH",
        "outputId": "110e5265-7f1b-4927-f720-16f7c800e442",
        "colab": {
          "base_uri": "https://localhost:8080/"
        }
      },
      "execution_count": 10,
      "outputs": [
        {
          "output_type": "stream",
          "name": "stdout",
          "text": [
            "Operaciones basicas entre dos numeros\n",
            "Ingresa un número 3\n",
            "Ingresa otro número 3\n",
            "suma 6.0\n",
            "resta 0.0 \n",
            "división 1.0\n",
            "multiplicacón 9.0\n"
          ]
        }
      ]
    },
    {
      "cell_type": "markdown",
      "source": [
        "2.3 Ejercicio 3 (1.5 puntos)\n",
        "\n",
        "Calcular el perímetro y área de un rectángulo dada su base y su altura. Respuesta:"
      ],
      "metadata": {
        "id": "cVDihbpZdRa6"
      }
    },
    {
      "cell_type": "code",
      "source": [
        "#Tu código aqui\n",
        "print(\"Calculo de perímetro y área de un rectangulo\")\n",
        "base=float(input(\"Ingresa la base del rectangulo \"))\n",
        "altura=float(input(\"Ingresa la altura del rectangulo \"))\n",
        "print(f\"Perímetro del rectangulo es {2*base + 2*altura} unidades \\nÁrea del rectangulo es {base*altura} unidades al cuadrado \")"
      ],
      "metadata": {
        "id": "MJ849GWadSGN",
        "outputId": "0407d85d-adc6-4ffe-c15a-82e93eaa81ec",
        "colab": {
          "base_uri": "https://localhost:8080/"
        }
      },
      "execution_count": 15,
      "outputs": [
        {
          "output_type": "stream",
          "name": "stdout",
          "text": [
            "Calculo de perímetro y área de un rectangulo\n",
            "Ingresa la base del rectangulo 2\n",
            "Ingresa la altura del rectangulo 2\n",
            "Perímetro del rectangulo es 8.0 unidades \n",
            "Área del rectangulo es 4.0 unidades al cuadrado \n"
          ]
        }
      ]
    }
  ]
}