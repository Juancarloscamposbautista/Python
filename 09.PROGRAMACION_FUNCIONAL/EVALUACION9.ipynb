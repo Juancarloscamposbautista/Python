{
  "nbformat": 4,
  "nbformat_minor": 0,
  "metadata": {
    "colab": {
      "name": "Untitled10.ipynb",
      "provenance": []
    },
    "kernelspec": {
      "name": "python3",
      "display_name": "Python 3"
    },
    "language_info": {
      "name": "python"
    }
  },
  "cells": [
    {
      "cell_type": "markdown",
      "source": [
        "Ejercicio 1 (2 puntos)\n",
        "Realice un programa que pregunte aleatoriamente una multiplicación. El programa debe indicar si la respuesta ha sido correcta o no (en caso que la respuesta sea incorrecta el programa debe indicar cuál es la correcta). El programa preguntará 10 multiplicaciones, y al finalizar mostrará el número de aciertos.\n",
        "\n",
        "Análisis\n",
        "Hacemos un bucle con 10 iteraciones, en cada iteración se inicializan dos números con un valor aleatorio (de 2 a 10). Se calcula la multiplicación.\n",
        "Mostramos la multiplicación, y pedimos por teclado el resultado. Si coincide con la multiplicación calculada cuento un acierto, sino escribimos un mensaje de error mostrando el resultado correcto. Cuando salimos del bucle mostramos el número de aciertos.\n",
        "Ejemplo. imprime una multiplicacion (9 * 8 = )por teclado se ingresa la respuesta, eso pasa 10 veces y al final nos imprime cuantas respuestas fueron correctas\n",
        "\n",
        "Recuerda el import random"
      ],
      "metadata": {
        "id": "f1s-mIwOYoUn"
      }
    },
    {
      "cell_type": "code",
      "execution_count": null,
      "metadata": {
        "id": "NiXfAPquYlLN"
      },
      "outputs": [],
      "source": [
        "import random\n",
        "aciertos = 0\n",
        "for indice in range(10):\n",
        "\t\n",
        "    num1 = random.randint(2,10)\n",
        "    num2 = random.randint(2,10)\n",
        "\t\n",
        "    resultado = num1*num2\n",
        "\t\n",
        "    print(\"Multiplicación \",indice)\n",
        "    print(num1,\" * \",num2,\" = \")\n",
        "    num_usuario = int(input())\n",
        "    \n",
        "    if num_usuario == resultado:\n",
        "        aciertos = aciertos+1\n",
        "    else:\n",
        "        \n",
        "        print(\"Incorrecto. Respuesta correcta \",resultado)\n",
        "        print(\"Calificación: \",aciertos)\n"
      ]
    },
    {
      "cell_type": "markdown",
      "source": [
        "Ejercicio 2 (2 puntos)\n",
        "Obtener el cuadrado de todos los elementos en la lista.\n",
        "\n",
        "Lista: [1,2,3,4,5,6,7,8,9,10]"
      ],
      "metadata": {
        "id": "wJ5HZRdhYq8_"
      }
    },
    {
      "cell_type": "code",
      "source": [
        "def cuadrado(Lista):\n",
        "    return Lista**2\n",
        "\n",
        "Lista= [ 1,2,3,4,5,6,7,8,9, 10 ]\n",
        "\n",
        "map(cuadrado, Lista)\n",
        "list(map(cuadrado, Lista))"
      ],
      "metadata": {
        "colab": {
          "base_uri": "https://localhost:8080/"
        },
        "id": "40IG-UdBY2rg",
        "outputId": "58b1c72f-7408-4ba5-f9f7-8419097f292b"
      },
      "execution_count": 11,
      "outputs": [
        {
          "output_type": "execute_result",
          "data": {
            "text/plain": [
              "[1, 4, 9, 16, 25, 36, 49, 64, 81, 100]"
            ]
          },
          "metadata": {},
          "execution_count": 11
        }
      ]
    },
    {
      "cell_type": "markdown",
      "source": [
        "Ejercicio 3 (2 puntos)\n",
        "Obtener la cantidad de elementos mayores a 5 en la tupla.\n",
        "\n",
        "tupla = (5,2,6,7,8,10,77,55,2,1,30,4,2,3)\n",
        "\n"
      ],
      "metadata": {
        "id": "j7051GHGY3FX"
      }
    },
    {
      "cell_type": "code",
      "source": [
        "\n",
        "def mayor(numero):\n",
        "  if numero >5:\n",
        "    return True\n",
        "\n",
        "tupla = (5,2,6,7,8,10,77,55,2,1,30,4,2,3)\n",
        "\n",
        "print(\"Cantidad de elementos de la tupla mayores a 5 =\",len(list(filter(mayor,tupla))))"
      ],
      "metadata": {
        "colab": {
          "base_uri": "https://localhost:8080/"
        },
        "id": "ryAjxcGEY-Kg",
        "outputId": "8bf78732-af99-434c-877c-60896c747448"
      },
      "execution_count": 35,
      "outputs": [
        {
          "output_type": "stream",
          "name": "stdout",
          "text": [
            "Cantidad de elementos de la tupla mayores a 5 = 7\n"
          ]
        }
      ]
    },
    {
      "cell_type": "markdown",
      "source": [
        "Ejercicio 4 (2 puntos)\n",
        "Obtener la suma de todos los elementos en la lista\n",
        "\n",
        "lista = [1,2,3,4]"
      ],
      "metadata": {
        "id": "uIvadKTAY-bm"
      }
    },
    {
      "cell_type": "code",
      "source": [
        "lista=[1,2,3,4]\n",
        "sum(lista)"
      ],
      "metadata": {
        "colab": {
          "base_uri": "https://localhost:8080/"
        },
        "id": "tAZ2iivmY_mb",
        "outputId": "bb31ae0a-4849-4809-f54b-0cf6b12fc005"
      },
      "execution_count": 3,
      "outputs": [
        {
          "output_type": "execute_result",
          "data": {
            "text/plain": [
              "10"
            ]
          },
          "metadata": {},
          "execution_count": 3
        }
      ]
    }
  ]
}