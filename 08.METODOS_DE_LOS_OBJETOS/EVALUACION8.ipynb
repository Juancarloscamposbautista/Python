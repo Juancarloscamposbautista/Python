{
  "nbformat": 4,
  "nbformat_minor": 0,
  "metadata": {
    "colab": {
      "name": "Untitled9.ipynb",
      "provenance": []
    },
    "kernelspec": {
      "name": "python3",
      "display_name": "Python 3"
    },
    "language_info": {
      "name": "python"
    }
  },
  "cells": [
    {
      "cell_type": "markdown",
      "source": [
        "Ejercicio 1 (2 puntos)\n",
        "Escribe un programa python que pida un número por teclado y que cree un diccionario cuyas claves sean desde el número 1 hasta el número indicado, y los valores sean los cuadrados de las claves.\n",
        "\n",
        "Ejemplo: si se ingresa el 4 imprima el cuadrado de 1, de 2, de 3 y de 4"
      ],
      "metadata": {
        "id": "WzIwVuOKTU6u"
      }
    },
    {
      "cell_type": "code",
      "execution_count": 4,
      "metadata": {
        "colab": {
          "base_uri": "https://localhost:8080/"
        },
        "id": "t7p2wq4_TQKz",
        "outputId": "406bc973-e083-48c9-b09c-e38ed6c89756"
      },
      "outputs": [
        {
          "output_type": "stream",
          "name": "stdout",
          "text": [
            "Ingresa un número entero:5\n",
            "1 --- 1\n",
            "2 --- 4\n",
            "3 --- 9\n",
            "4 --- 16\n",
            "5 --- 25\n"
          ]
        }
      ],
      "source": [
        "numero = int(input(\"Ingresa un número entero:\"))\n",
        "cuadrado = {}\n",
        "\n",
        "for num in range(1,numero+1):\n",
        "    cuadrado[num] = num**2\n",
        "for num, valor in cuadrado.items():\n",
        "    print(\"%d --- %d\" % (num,valor))\n"
      ]
    },
    {
      "cell_type": "markdown",
      "source": [
        "Ejercicio 2 (2 puntos)\n",
        "Escribe un programa que lea una cadena y devuelva un diccionario con la cantidad de apariciones de cada carácter en la cadena.\n",
        "\n",
        "Ejemplo: si se ingresa \"paloma\" p=1 a=2 l=1 o=1 m=1"
      ],
      "metadata": {
        "id": "ao4MT2gwURKT"
      }
    },
    {
      "cell_type": "code",
      "source": [
        "dic = {}\n",
        "cadena = input(\"Ingresa una palabra: \")\n",
        "for caracter in cadena:\n",
        "\tif caracter in dic:\n",
        "\t\tdic[caracter]+=1\n",
        "\telse:\n",
        "\t\tdic[caracter]=1\t\n",
        "\n",
        "for carac,valor in dic.items():\n",
        "\tprint (carac,\"=\",valor)\n"
      ],
      "metadata": {
        "colab": {
          "base_uri": "https://localhost:8080/"
        },
        "id": "SwasyFFfUPca",
        "outputId": "1d55e1ef-dbf1-4402-b516-6e9cdc6fdb6d"
      },
      "execution_count": 8,
      "outputs": [
        {
          "output_type": "stream",
          "name": "stdout",
          "text": [
            "Ingresa una palabra: palabra\n",
            "p = 1\n",
            "a = 3\n",
            "l = 1\n",
            "b = 1\n",
            "r = 1\n"
          ]
        }
      ]
    },
    {
      "cell_type": "markdown",
      "source": [
        "Ejercicio 3 (2 puntos)\n",
        "Vamos a crear un programa en python donde vamos a declarar un diccionario para guardar los precios de las distintas frutas. El programa pedirá el nombre de la fruta y la cantidad que se ha vendido y nos mostrará el precio final de la fruta a partir de los datos guardados en el diccionario. Si la fruta no existe nos dará un error. Tras cada consulta el programa nos preguntará si queremos hacer otra consulta."
      ],
      "metadata": {
        "id": "sQusL-89V-Qe"
      }
    },
    {
      "cell_type": "code",
      "source": [
        "precios = {\"piña\": 20, \"mango\": 15, \"uva\": 35, \"papaya\": 22}\n",
        "while True:\n",
        "    fruta = input(\"Que  fruta  vendiste: \")\n",
        "    if fruta.lower() not in precios:\n",
        "        print(\"Fruta no existe.\")\n",
        "    else:\n",
        "        cantidad = int(input(\"Cuantas piezas vendiste: \"))\n",
        "        print(\"El precio es de %f\" % (cantidad * precios[fruta]))\n",
        "    opcion = input(\"¿Quieres vender otra fruta si o no\")\n",
        "    while opcion.lower() != \"si\" and opcion.lower() != \"no\":\n",
        "        opcion = input(\"¿Quieres vender otra fruta si o no\" )\n",
        "    if opcion.lower() == \"no\":\n",
        "        break\n",
        "\n",
        "\n",
        "    \n",
        "\n"
      ],
      "metadata": {
        "colab": {
          "base_uri": "https://localhost:8080/"
        },
        "id": "bvpGizWyV_Th",
        "outputId": "2d39e23e-f376-4dcc-fef1-c2f9fd9b0b59"
      },
      "execution_count": 13,
      "outputs": [
        {
          "name": "stdout",
          "output_type": "stream",
          "text": [
            "Que  fruta  vendiste: hb\n",
            "Fruta no existe.\n",
            "¿Quieres vender otra fruta si o nono\n"
          ]
        }
      ]
    }
  ]
}