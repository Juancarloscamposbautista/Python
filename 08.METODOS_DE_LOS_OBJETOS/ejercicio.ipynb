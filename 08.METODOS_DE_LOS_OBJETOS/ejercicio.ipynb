{
  "nbformat": 4,
  "nbformat_minor": 0,
  "metadata": {
    "colab": {
      "name": "ejercicio.ipynb",
      "provenance": [],
      "authorship_tag": "ABX9TyMMGzueFTwFWdX+9y4FtAux",
      "include_colab_link": true
    },
    "kernelspec": {
      "name": "python3",
      "display_name": "Python 3"
    },
    "language_info": {
      "name": "python"
    }
  },
  "cells": [
    {
      "cell_type": "markdown",
      "metadata": {
        "id": "view-in-github",
        "colab_type": "text"
      },
      "source": [
        "<a href=\"https://colab.research.google.com/github/escuelaDeCodigoMargaritaMaza/Python/blob/main/08.METODOS_DE_LOS_OBJETOS/ejercicio.ipynb\" target=\"_parent\"><img src=\"https://colab.research.google.com/assets/colab-badge.svg\" alt=\"Open In Colab\"/></a>"
      ]
    },
    {
      "cell_type": "markdown",
      "source": [
        "## Ejercicio\n",
        "Escribir un programa que pregunte por consola por los productos de una cesta de la compra, separados por comas, y muestre por pantalla cada uno de los productos en una línea distinta. (split)"
      ],
      "metadata": {
        "id": "8_sDjr2exTiL"
      }
    },
    {
      "cell_type": "code",
      "source": [
        "#tu codigo aqui"
      ],
      "metadata": {
        "id": "cBMK6_gKxdKG"
      },
      "execution_count": null,
      "outputs": []
    },
    {
      "cell_type": "markdown",
      "source": [
        "## Ejercicio\n",
        "Escribir un programa que pregunte una frase por consola, después pregunte por una vocal, imprimiento esa vocal en mayúscula dentro de la frase, si la frase la contiene. (replace)"
      ],
      "metadata": {
        "id": "Xyg9bNipxgP0"
      }
    },
    {
      "cell_type": "code",
      "source": [
        "#tu codigo aqui"
      ],
      "metadata": {
        "id": "j0RG4f04x4Nf"
      },
      "execution_count": null,
      "outputs": []
    },
    {
      "cell_type": "code",
      "source": [
        "cesta = input('Introduce los productos de la cesta de la compra separados por comas: ')\n",
        "print('\\n'cesta.split(','))"
      ],
      "metadata": {
        "colab": {
          "base_uri": "https://localhost:8080/",
          "height": 130
        },
        "id": "96tlRB9yyGZn",
        "outputId": "951f3df4-4acf-4cf4-eb01-f3f4974278dd"
      },
      "execution_count": 3,
      "outputs": [
        {
          "output_type": "error",
          "ename": "SyntaxError",
          "evalue": "ignored",
          "traceback": [
            "\u001b[0;36m  File \u001b[0;32m\"<ipython-input-3-8d9cb4d89333>\"\u001b[0;36m, line \u001b[0;32m2\u001b[0m\n\u001b[0;31m    print('\\n'cesta.split(','))\u001b[0m\n\u001b[0m                  ^\u001b[0m\n\u001b[0;31mSyntaxError\u001b[0m\u001b[0;31m:\u001b[0m invalid syntax\n"
          ]
        }
      ]
    },
    {
      "cell_type": "code",
      "execution_count": null,
      "metadata": {
        "id": "pmBjpEBoxJs0"
      },
      "outputs": [],
      "source": [
        "frase = input(\"Introduce una frase: \")\n",
        "vocal = input(\"Introduce una vocal en minúscula:  \")\n",
        "print(frase.replace(vocal, vocal.upper()))"
      ]
    }
  ]
}