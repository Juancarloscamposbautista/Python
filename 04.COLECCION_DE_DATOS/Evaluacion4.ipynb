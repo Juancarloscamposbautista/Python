{
  "nbformat": 4,
  "nbformat_minor": 0,
  "metadata": {
    "colab": {
      "name": "Copia de Untitled5.ipynb",
      "provenance": []
    },
    "kernelspec": {
      "name": "python3",
      "display_name": "Python 3"
    },
    "language_info": {
      "name": "python"
    }
  },
  "cells": [
    {
      "cell_type": "markdown",
      "source": [
        "# Práctica 4. \n",
        "6 puntos\n",
        "\n",
        "Tipos de colección de datos.\n",
        "\n",
        "## 4.1 Ejercicio 1(1.2 puntos)\n",
        "Realizar un programa que inicialice una lista con 10 valores aleatorios (del 1 al 10) y posteriormente muestre en pantalla cada elemento de la lista junto con su cuadrado y su cubo. Respuesta:\n",
        "\n"
      ],
      "metadata": {
        "id": "5401D1bpSsU-"
      }
    },
    {
      "cell_type": "code",
      "execution_count": null,
      "metadata": {
        "id": "2evc8LMxSrwF",
        "outputId": "6aaf55ab-d912-459b-9b35-f528fe5e0ad7",
        "colab": {
          "base_uri": "https://localhost:8080/"
        }
      },
      "outputs": [
        {
          "output_type": "stream",
          "name": "stdout",
          "text": [
            "[1, 6, 2, 2, 5, 4, 9, 6, 6, 1]\n",
            "1 36 4 4 25 16 81 36 36 1\n",
            "1 216 8 8 125 64 729 216 216 1\n"
          ]
        }
      ],
      "source": [
        "from random import*\n",
        "n= randint(1,10)\n",
        "a= randint(1,10)\n",
        "b=randint(1,10) \n",
        "c=randint(1,10)\n",
        "d=randint(1,10)\n",
        "f=randint(1,10)\n",
        "e=randint(1,10)\n",
        "g=randint(1,10)\n",
        "h=randint(1,10)\n",
        "i=randint(1,10)\n",
        "lista=[n,a,b,c,d,f,e,g,h,1]\n",
        "print(lista)\n",
        "print(lista[0]**2,lista[1]**2,lista[2]**2,lista[3]**2,lista[4]**2,lista[5]**2,lista[6]**2,lista[7]**2,lista[8]**2,lista[9]**2)\n",
        "print(lista[0]**3,lista[1]**3,lista[2]**3,lista[3]**3,lista[4]**3,lista[5]**3,lista[6]**3,lista[7]**3,lista[8]**3,lista[9]**3)"
      ]
    },
    {
      "cell_type": "markdown",
      "source": [
        "## 4.2 Ejercicio 2 (1.2 puntos)\n",
        "Crea una lista e inicializarla con 5 cadenas de caracteres leídas por teclado. Copia los elementos de la lista en otra lista pero en orden inverso, y muestra sus elementos por la pantalla.\n",
        "\n"
      ],
      "metadata": {
        "id": "mYeAdvL-S2m4"
      }
    },
    {
      "cell_type": "code",
      "source": [
        "#Tu código aqui\n",
        "uno=input(\"Ingresa una palabra \")\n",
        "dos=input(\"Ingresa una palabra \")\n",
        "tres=input(\"Ingresa una palabra \")\n",
        "cuatro=input(\"Ingresa una palabra \")\n",
        "cinco=input(\"Ingresa una palabra \")\n",
        "lista=[uno,dos,tres,cuatro,cinco]\n",
        "print(lista)\n",
        "print(lista[-1],lista[-2],lista[-3],lista[-4],lista[-5])"
      ],
      "metadata": {
        "id": "sW9gox1pS75K",
        "outputId": "e3dc7014-1f26-402d-8396-11a344f3c589",
        "colab": {
          "base_uri": "https://localhost:8080/"
        }
      },
      "execution_count": null,
      "outputs": [
        {
          "output_type": "stream",
          "name": "stdout",
          "text": [
            "Ingresa una palabrauno\n",
            "Ingresa una palabrados\n",
            "Ingresa una palabratres\n",
            "Ingresa una palabracuatro\n",
            "Ingresa una palabracinco\n",
            "['uno', 'dos', 'tres', 'cuatro', 'cinco']\n",
            "cinco cuatro tres dos uno\n"
          ]
        }
      ]
    },
    {
      "cell_type": "markdown",
      "source": [
        "## 4.3 Ejercicio 3 (1.2 puntos)\n",
        "Se quiere realizar un programa que lea por teclado las 5 notas obtenidas por un alumno (comprendidas entre 0 y 10). A continuación debe mostrar todas las notas, la nota media, la nota más alta que ha sacado y la menor.\n",
        "\n"
      ],
      "metadata": {
        "id": "QWYc_eqVS96C"
      }
    },
    {
      "cell_type": "code",
      "source": [
        "#Tu codigo aqui\n",
        "uno=float(input(\"ingresa la nota del alumno \"))\n",
        "dos=float(input(\"ingresa la nota del alumno \"))\n",
        "tres=float(input(\"ingresa la nota del alumno \"))\n",
        "cuatro=float(input(\"ingresa la nota del alumno \"))\n",
        "cinco=float(input(\"ingresa la nota del alumno \"))\n",
        "lista=[uno,dos,tres,cuatro,cinco]\n",
        "if 1<= uno <=10 and 1<= dos <=10 and 1<= tres <=10 and 1<= cuatro <=10 and 1<= cinco <=10 :\n",
        "  print(f'''Las calificaciones del alumno son {lista}, por lo que su media fue de {sum(lista)/5} ,\n",
        "   la nota más alta fue {max(lista)} y la menor {min(lista)}''')\n",
        "else:\n",
        "  print(\"Error se ingreso alguna calificación en un rango fuera de 1 y 10\") \n"
      ],
      "metadata": {
        "id": "9NtUBQ3rTAlZ",
        "outputId": "2d8258be-003e-48b0-f63a-d51ccd717e46",
        "colab": {
          "base_uri": "https://localhost:8080/"
        }
      },
      "execution_count": null,
      "outputs": [
        {
          "output_type": "stream",
          "name": "stdout",
          "text": [
            "ingresa la nota del alumno 5\n",
            "ingresa la nota del alumno 7\n",
            "ingresa la nota del alumno 9\n",
            "ingresa la nota del alumno 8\n",
            "ingresa la nota del alumno 9\n",
            "Las calificaciones del alumno son [5.0, 7.0, 9.0, 8.0, 9.0], por lo que su media fue de 7.6 ,\n",
            "   la nota más alta fue 9.0 y la menor 5.0\n"
          ]
        }
      ]
    },
    {
      "cell_type": "markdown",
      "source": [
        "## 4.4 Ejercicio 4 (1.2 puntos)\n",
        "Codifica un programa en python que nos permita guardar los nombres de los alumnos de una clase y las notas que han obtenido. Cada alumno puede tener distinta cantidad de notas. Guarda la información en un diccionario cuya claves serán los nombres de los alumnos y los valores serán listados con las notas de cada alumno.\n",
        "\n",
        "El programa pedirá el número de alumnos que vamos a introducir, pedirá su nombre e irá pidiendo sus notas hasta que introduzcamos un número negativo. Al final el programa nos mostrará la lista de alumnos y la nota media obtenida por cada uno de ellos. Nota: si se introduce el nombre de un alumno que ya existe el programa nos dará un error.\n",
        "\n"
      ],
      "metadata": {
        "id": "0SZRy56KTC3q"
      }
    },
    {
      "cell_type": "code",
      "source": [
        "alumnos = {}\n",
        "cantidad = int(input(\"Introduce la cantidad de alumnos que vamos a guradar:\"))\n",
        "for num in range(cantidad):\n",
        "    alumno = input(\"Nombre del alumno:\")\n",
        "    while alumno in alumnos:\n",
        "        print(\"Alumno ya existe.\")\n",
        "        alumno = input(\"Nombre del alumno:\")\n",
        "    notas=[]\n",
        "    nota = int(input(\"Dame una nota del alumno (negativo para terminar):\"))\n",
        "    while nota > 0:\n",
        "        notas.append(nota)\n",
        "        nota = int(input(\"Dame una nota del alumno (negativo para terminar):\"))\n",
        "    alumnos[alumno] = notas.copy()\n",
        "\n",
        "for alumno, notas in alumnos.items():\n",
        "    print(\"%s ha sacado de nota media %f\" % (alumno,sum(notas)/len(notas)))\n",
        "\n"
      ],
      "metadata": {
        "id": "Zai6eApUTGzk",
        "colab": {
          "base_uri": "https://localhost:8080/"
        },
        "outputId": "f2a094ef-f719-4d5a-ef08-c23ba4f1f482"
      },
      "execution_count": 16,
      "outputs": [
        {
          "output_type": "stream",
          "name": "stdout",
          "text": [
            "Introduce la cantidad de alumnos que vamos a guradar:2\n",
            "Nombre del alumno:juan\n",
            "Dame una nota del alumno (negativo para terminar):6\n",
            "Dame una nota del alumno (negativo para terminar):7\n",
            "Dame una nota del alumno (negativo para terminar):8\n",
            "Dame una nota del alumno (negativo para terminar):-1\n",
            "Nombre del alumno:carlos\n",
            "Dame una nota del alumno (negativo para terminar):2\n",
            "Dame una nota del alumno (negativo para terminar):3\n",
            "Dame una nota del alumno (negativo para terminar):1\n",
            "Dame una nota del alumno (negativo para terminar):0\n",
            "juan ha sacado de nota media 7.000000\n",
            "carlos ha sacado de nota media 2.000000\n"
          ]
        }
      ]
    },
    {
      "cell_type": "markdown",
      "source": [
        "## 4.5 Ejercicio 5 (1.2 puntos)\n",
        "Crea una tupla con los meses del año, pide números al usuario, si el número está entre 1 y la longitud máxima de la tupla, muestra el contenido de esa posición sino muestra un mensaje de error. El programa termina cuando el usuario introduce un cero.\n",
        "\n"
      ],
      "metadata": {
        "id": "BXyaY22ATI-M"
      }
    },
    {
      "cell_type": "code",
      "source": [
        "meses = (\"Enero\", \"Febrero\", \"Marzo\", \"Abril\", \"Mayo\", \"Junio\", \"Julio\", \"Agosto\", \"Septiembre\", \"Octubre\", \"Noviembre\", \"Diciembre\")\n",
        " \n",
        "salir = False\n",
        "while(not salir):\n",
        "     \n",
        "    num = int(input(\"Dame un numero o 0 para terminar: \"))\n",
        " \n",
        "    if(num==0):\n",
        "        salir= True\n",
        "    else:\n",
        "        if(num>=1 and num<=len(meses)):\n",
        "            print(meses[num-1])\n",
        "        else:\n",
        "            print(\"Inserta un numero entre 1 y \",len(meses))\n",
        "       "
      ],
      "metadata": {
        "id": "c4mkDJNtTLLz",
        "colab": {
          "base_uri": "https://localhost:8080/"
        },
        "outputId": "eb05ebb8-9ce5-4d2e-8a90-6c968c2e3440"
      },
      "execution_count": 53,
      "outputs": [
        {
          "name": "stdout",
          "output_type": "stream",
          "text": [
            "Dame un numero o 0 para terminar: 12\n",
            "Diciembre\n",
            "Dame un numero o 0 para terminar: 45\n",
            "Inserta un numero entre 1 y  12\n",
            "Dame un numero o 0 para terminar: 8\n",
            "Agosto\n",
            "Dame un numero o 0 para terminar: 9\n",
            "Septiembre\n",
            "Dame un numero o 0 para terminar: 0\n"
          ]
        }
      ]
    }
  ]
}