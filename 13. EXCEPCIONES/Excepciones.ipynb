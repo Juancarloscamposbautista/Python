{
  "nbformat": 4,
  "nbformat_minor": 0,
  "metadata": {
    "colab": {
      "name": "Excepciones.ipynb",
      "provenance": [],
      "authorship_tag": "ABX9TyO2TP9XbPmLCHrcN5wHJfp/",
      "include_colab_link": true
    },
    "kernelspec": {
      "name": "python3",
      "display_name": "Python 3"
    },
    "language_info": {
      "name": "python"
    }
  },
  "cells": [
    {
      "cell_type": "markdown",
      "metadata": {
        "id": "view-in-github",
        "colab_type": "text"
      },
      "source": [
        "<a href=\"https://colab.research.google.com/github/escuelaDeCodigoMargaritaMaza/Python/blob/main/13.%20EXCEPCIONES/Excepciones.ipynb\" target=\"_parent\"><img src=\"https://colab.research.google.com/assets/colab-badge.svg\" alt=\"Open In Colab\"/></a>"
      ]
    },
    {
      "cell_type": "markdown",
      "source": [
        "# Excepciones\n",
        "Los errores de ejecución son llamados comúnmente excepciones y por eso de ahora en más utilizaremos ese nombre. Durante la ejecución de un programa, si dentro de una función surge una excepción y la función no la maneja, la excepción se propaga hacia la función que la invocó, si esta otra tampoco la maneja, la excepción continúa propagándose hasta llegar a la función inicial del programa y si esta tampoco la maneja se interrumpe la ejecución del programa.\n",
        "\n",
        "Veamos entonces cómo manejar excepciones.\n",
        "\n",
        "Para el manejo de excepciones los lenguajes proveen ciertas palabras reservadas, que nos permiten manejar las excepciones que puedan surgir y tomar acciones de recuperación para evitar la interrupción del programa o, al menos, para realizar algunas acciones adicionales antes de interrumpir el programa.\n",
        "\n",
        "En el caso de Python, el manejo de excepciones se hace mediante los bloques que utilizan las sentencias try, except,else y finally."
      ],
      "metadata": {
        "id": "JfMVsfeVGqJr"
      }
    },
    {
      "cell_type": "code",
      "execution_count": null,
      "metadata": {
        "id": "rZ8Ro82nGkfg"
      },
      "outputs": [],
      "source": [
        "num1=10\n",
        "num2=0\n",
        "res= num1/num2\n",
        "res"
      ]
    },
    {
      "cell_type": "markdown",
      "source": [
        "En este caso, se levantó la excepción ZeroDivisionError cuando se quiso hacer la división. Para evitar que se levante la excepción y se detenga la ejecución del programa, se utiliza el bloque try-except."
      ],
      "metadata": {
        "id": "XeYTu0eUGyYN"
      }
    },
    {
      "cell_type": "code",
      "source": [
        "num1=10\n",
        "num2=0\n",
        "\n",
        "try:\n",
        "  res= num1/num2\n",
        "\n",
        "except:\n",
        "  print('no es posible dividir entre 0')"
      ],
      "metadata": {
        "id": "tQqPpSG1G1KK"
      },
      "execution_count": null,
      "outputs": []
    },
    {
      "cell_type": "markdown",
      "source": [
        "Otro ejemplo"
      ],
      "metadata": {
        "id": "PRXiQF7bG5x2"
      }
    },
    {
      "cell_type": "code",
      "source": [
        "try:\n",
        "    f = open('fichero.txt')  # El fichero no existe\n",
        "except:  #estamos estableciendo que para cualquier exepcion, podriamos ser más específicos para evitar tener confusión\n",
        "    print('¡El fichero no existe!')\n",
        "else:\n",
        "    print(f.read())"
      ],
      "metadata": {
        "id": "BXnC13zfG5AO"
      },
      "execution_count": null,
      "outputs": []
    },
    {
      "cell_type": "markdown",
      "source": [
        "Otro ejemplo"
      ],
      "metadata": {
        "id": "mkY8kFCrHKeq"
      }
    },
    {
      "cell_type": "code",
      "source": [
        "while True:\n",
        "   try:\n",
        "     x = int(input(\"Ingresa un número: \"))\n",
        "     break\n",
        "   except ValueError: #aquí la establecemos para que tipo de exepcion\n",
        "    print(\"Oops!  Ese no es un dato valido.  Ingresa de nuevo...\")"
      ],
      "metadata": {
        "id": "xSOQ4poAHMW8"
      },
      "execution_count": null,
      "outputs": []
    },
    {
      "cell_type": "markdown",
      "source": [
        "Dado que dentro de un mismo bloque try pueden producirse excepciones de distinto tipo, es posible utilizar varios bloques except, cada uno para capturar un tipo distinto de excepción.\n",
        "\n",
        "Esto se hace especificando a continuación de la sentencia except el nombre de la excepción que se pretende capturar. Un mismo bloque except puede atrapar varios tipos de excepciones, lo cual se hace especificando los nombres de la excepciones separados por comas a continuación de la palabra except. Es importante destacar que si bien luego de un bloque try puede haber varios bloques except, se ejecutará, a lo sumo, uno de ellos.\n",
        "\n",
        "## Tipos de excepciones\n",
        "Los principales excepciones definidas en Python son:\n",
        "\n",
        "TypeError : Ocurre cuando se aplica una operación o función a un dato del tipo inapropiado.\n",
        "\n",
        "ZeroDivisionError : Ocurre cuando se itenta dividir por cero.\n",
        "\n",
        "OverflowError : Ocurre cuando un cálculo excede el límite para un tipo de dato numérico.\n",
        "\n",
        "IndexError : Ocurre cuando se intenta acceder a una secuencia con un índice que no existe.\n",
        "\n",
        "KeyError : Ocurre cuando se intenta acceder a un diccionario con una clave que no existe.\n",
        "\n",
        "FileNotFoundError : Ocurre cuando se intenta acceder a un fichero que no existe en la ruta indicada.\n",
        "\n",
        "ImportError : Ocurre cuando falla la importación de un módulo.\n",
        "\n",
        "Es posible, por otra parte, que luego de realizar algún procesamiento particular del caso se quiera que la excepción se propague hacia la función que había invocado a la función actual. Para hacer esto Python nos brinda la instrucción raise.\n",
        "\n",
        "En una funcion"
      ],
      "metadata": {
        "id": "dUm3iAlwHXyZ"
      }
    },
    {
      "cell_type": "code",
      "source": [
        "def division(a, b):\n",
        "  try:\n",
        "      result = a / b\n",
        "  except:\n",
        "      print('¡No se puede dividir por cero!')\n",
        "  else:\n",
        "      print(result)\n",
        "      \n",
        "division(10,0)"
      ],
      "metadata": {
        "id": "FLSMG5xkHdKX"
      },
      "execution_count": null,
      "outputs": []
    },
    {
      "cell_type": "code",
      "source": [
        "while True:\n",
        "    try:\n",
        "        edad = int(input(\"Escribe tu edad: \"))\n",
        "        break\n",
        "    except ValueError:\n",
        "        print(\"¡Debes ingresar un número!\")\n",
        "if edad >= 18:\n",
        "    print(\"Eres un adulto.\")\n",
        "else:\n",
        "    print(\"Aún no eres un adulto.\")\n"
      ],
      "metadata": {
        "id": "WJ2MhDYqH1WI"
      },
      "execution_count": null,
      "outputs": []
    }
  ]
}