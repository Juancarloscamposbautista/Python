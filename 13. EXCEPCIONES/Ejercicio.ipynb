{
  "nbformat": 4,
  "nbformat_minor": 0,
  "metadata": {
    "colab": {
      "name": "Ejercicio.ipynb",
      "provenance": [],
      "authorship_tag": "ABX9TyPx1AIaJYTjJ+rATcV9AcFK",
      "include_colab_link": true
    },
    "kernelspec": {
      "name": "python3",
      "display_name": "Python 3"
    },
    "language_info": {
      "name": "python"
    }
  },
  "cells": [
    {
      "cell_type": "markdown",
      "metadata": {
        "id": "view-in-github",
        "colab_type": "text"
      },
      "source": [
        "<a href=\"https://colab.research.google.com/github/escuelaDeCodigoMargaritaMaza/Python/blob/main/13.%20EXCEPCIONES/Ejercicio.ipynb\" target=\"_parent\"><img src=\"https://colab.research.google.com/assets/colab-badge.svg\" alt=\"Open In Colab\"/></a>"
      ]
    },
    {
      "cell_type": "markdown",
      "source": [
        "1. Crea una exepción para cuando se solicite la consulta de un elemento que no este en la lista [1, 2, 3, 4, 5]"
      ],
      "metadata": {
        "id": "ocZub7jeLTcV"
      }
    },
    {
      "cell_type": "code",
      "execution_count": null,
      "metadata": {
        "id": "2JXkF-qdLR8k"
      },
      "outputs": [],
      "source": [
        "try:\n",
        "    lista = [1, 2, 3, 4, 5]\n",
        "    lista[10]\n",
        "\n",
        "except IndexError:\n",
        "    print(\"ERROR: acceso a índice incorrecto en lista\")\n",
        "else:\n",
        "    print(\"Manejo de listas correcto\")\n",
        "finally:\n",
        "    print(\"Fin del bloque try\")"
      ]
    },
    {
      "cell_type": "markdown",
      "source": [
        "2. Partimos de la siguiente lista:\n",
        "\n",
        "lista=['gato', 'perro', 'ratón', 'pato', 'elefante']\n",
        "\n",
        "Crea un programa que solicite el índice de un elemento de la lista y que a continuación muestre dicho elemento por pantalla.\n",
        "\n",
        "ejemplo \n",
        "\n",
        "Introduce el índice del elemento de la lista que quieres mostrar por pantalla:3\n",
        "pato\n",
        "\n",
        "En caso de que el índice sea un número mayor (>4) se producirá un error.\n",
        "\n",
        "Crea una excepción para evitar que el programa se bloquee y que explique al usuario la causa y solución.\n",
        "\n",
        "Introduce el índice del elemento de la lista que quieres mostrar por pantalla:5\n",
        "El índice se encuentra fuera del rango.\n",
        "Debes utilizar un número mayor o igual que cero y menor que la longitud de la\n",
        "lista."
      ],
      "metadata": {
        "id": "97GAXqouLuQh"
      }
    },
    {
      "cell_type": "code",
      "source": [
        "#Tu código aqi"
      ],
      "metadata": {
        "id": "m2iBLfpQL3O0"
      },
      "execution_count": null,
      "outputs": []
    },
    {
      "cell_type": "markdown",
      "source": [
        "3. Crea una exepción para un programa que solicite un número por teclado, el que se recibirá como texto sin convertir a entrero, y se le sume otro número también ingresado por consola pero el cual si se convierte a entero."
      ],
      "metadata": {
        "id": "642bxzPGMHGZ"
      }
    },
    {
      "cell_type": "code",
      "source": [
        "#Tu código aqi"
      ],
      "metadata": {
        "id": "RdXUrFREMJDH"
      },
      "execution_count": null,
      "outputs": []
    },
    {
      "cell_type": "markdown",
      "source": [
        "\n",
        "4. Realiza una función llamada agregar_una_vez(lista, elemento) que reciba una lista y un elemento. La función debe añadir el elemento al final de la lista con la condición de no repetir ningún elemento. Además si este elemento ya se encuentra en la lista se debe invocar un error de tipo ValueError que debes capturar y mostrar este mensaje en su lugar (usar raise):"
      ],
      "metadata": {
        "id": "mvF5Oz7VMLv2"
      }
    },
    {
      "cell_type": "code",
      "source": [
        "#Tu código aqi"
      ],
      "metadata": {
        "id": "PuAo11rOMOJJ"
      },
      "execution_count": null,
      "outputs": []
    },
    {
      "cell_type": "markdown",
      "source": [
        "## SOLUCIONES"
      ],
      "metadata": {
        "id": "Mai82m92MPiA"
      }
    },
    {
      "cell_type": "code",
      "source": [
        "numero1=input('ingresa otro numero')\n",
        "numero2=int(input('ingresa un número'))\n",
        "try:\n",
        "    resultado = numero1 + numero2\n",
        "except TypeError:\n",
        "    print(\"ERROR: intento de suma de número y cadena\")\n",
        "else:\n",
        "    print(\"Operación realizada correctamente\")\n",
        "finally:\n",
        "    print(\"Fin del bloque try\")"
      ],
      "metadata": {
        "id": "1SUPxO6kMZjc"
      },
      "execution_count": null,
      "outputs": []
    },
    {
      "cell_type": "code",
      "source": [
        "elementos = [1, 5, -2]\n",
        "\n",
        "def agregar_una_vez(elemento):\n",
        "    try: \n",
        "        \n",
        "        if elemento in elementos:\n",
        "            raise ValueError()\n",
        "        else:\n",
        "            elementos.append(elemento)\n",
        "            \n",
        "\n",
        "    except  ValueError:\n",
        "        print(\"Error: El elemento ya existe en la lista.\")\n",
        "agregar_una_vez(1)\n",
        "print(elementos)"
      ],
      "metadata": {
        "id": "0A5PPHmkMfP7"
      },
      "execution_count": null,
      "outputs": []
    }
  ]
}