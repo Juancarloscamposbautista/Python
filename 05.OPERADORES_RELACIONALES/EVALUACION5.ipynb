{
  "nbformat": 4,
  "nbformat_minor": 0,
  "metadata": {
    "colab": {
      "name": "EVALUACION5.ipynb",
      "provenance": []
    },
    "kernelspec": {
      "name": "python3",
      "display_name": "Python 3"
    },
    "language_info": {
      "name": "python"
    }
  },
  "cells": [
    {
      "cell_type": "markdown",
      "source": [
        "#5 Práctica 5. \n",
        "Operadores relacionales. (6 puntos)\n",
        "\n",
        "## 5.1 Ejercicio 1 (2 puntos)\n",
        "Programa que imprima si el número es positivo o negativo, el número debe ser ingresado por consola.\n",
        "\n"
      ],
      "metadata": {
        "id": "r7beNH5cW9_x"
      }
    },
    {
      "cell_type": "code",
      "source": [
        "#Tu codigo aqui\n",
        "num=float(input(\"Ingresa un número \"))\n",
        "if 0<=num:\n",
        "  print(\"El número es positivo\")\n",
        "else:\n",
        "  print(\"El número es negativo\")  "
      ],
      "metadata": {
        "id": "bZVUL37GXES5",
        "outputId": "75a8fe71-d2aa-4ca3-b1e4-3def96c08d63",
        "colab": {
          "base_uri": "https://localhost:8080/"
        }
      },
      "execution_count": 5,
      "outputs": [
        {
          "output_type": "stream",
          "name": "stdout",
          "text": [
            "Ingresa un número -1\n",
            "El número es negativo\n"
          ]
        }
      ]
    },
    {
      "cell_type": "markdown",
      "source": [
        "## 5.2 Ejercicio 2 (2 puntos)\n",
        "Programa que imprima si el número ingresado esta en el rango de 1 a 7, el número se solicita por consola.\n",
        "\n"
      ],
      "metadata": {
        "id": "HCdfkizhXH84"
      }
    },
    {
      "cell_type": "code",
      "execution_count": 10,
      "metadata": {
        "id": "-gwRlEcsW8t9",
        "outputId": "5937afdc-a944-4c9a-f6e1-a673c4c5af2d",
        "colab": {
          "base_uri": "https://localhost:8080/"
        }
      },
      "outputs": [
        {
          "output_type": "stream",
          "name": "stdout",
          "text": [
            "Ingresa un número 0\n",
            "El número no esta dentro del rango 1 a 7\n"
          ]
        }
      ],
      "source": [
        "#Tu codigo aqui\n",
        "num=float(input(\"Ingresa un número \"))\n",
        "if 1<=num<=7:\n",
        "  print(\"El número esta dentro del rango de 1 a 7\")\n",
        "else:\n",
        "  print(\"El número no esta dentro del rango 1 a 7\")  "
      ]
    },
    {
      "cell_type": "markdown",
      "source": [
        "## 5.3 Ejercicio 3 (2 puntos)\n",
        "Programa que solicite un monto y que solicite el interés mensual, si el interés es mayor al 30% nos imprimirá que es incorrecto, si es menor realizará el cálculo e imprimira el monto con su interés adicionado."
      ],
      "metadata": {
        "id": "MfOTeEoPXMPg"
      }
    },
    {
      "cell_type": "code",
      "source": [
        "#Tu codigo aqui\n",
        "pres=float(input(\"Que monto deseas solicitar\"))\n",
        "inte=float(input(\"A que tasa de de interes mensual lo deseas, ingresalo con punto decimal \"))\n",
        "if inte>.30:\n",
        "  print(\"Tasa incorecta\")\n",
        "elif inte<.30:\n",
        "  print(\"El monto del pago más el interes mensual sera\", pres+(inte*pres))  "
      ],
      "metadata": {
        "id": "vK-sijxOXN_I",
        "outputId": "c56c966e-4acb-42d6-ff8b-017599de2c12",
        "colab": {
          "base_uri": "https://localhost:8080/"
        }
      },
      "execution_count": 13,
      "outputs": [
        {
          "output_type": "stream",
          "name": "stdout",
          "text": [
            "Que monto deseas solicitar10000\n",
            "A que tasa de de interes mensual lo deseas, ingresalo con punto decimal .5\n",
            "Tasa incorecta\n"
          ]
        }
      ]
    }
  ]
}